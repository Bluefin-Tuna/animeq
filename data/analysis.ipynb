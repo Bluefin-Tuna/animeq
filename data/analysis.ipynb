{
 "cells": [
  {
   "cell_type": "code",
   "execution_count": 1,
   "metadata": {},
   "outputs": [],
   "source": [
    "import pandas"
   ]
  },
  {
   "cell_type": "code",
   "execution_count": 17,
   "metadata": {},
   "outputs": [],
   "source": [
    "out = []\n",
    "with open(\"./anime.csv\", \"r+\") as f:\n",
    "    cols = f.readline()\n",
    "    for line in f:\n",
    "        out.append(f.readline().split(\",\"))\n",
    "        if(len(out[-1]) >= 4):\n",
    "            title = \",\".join(out[-1][0: len(out[-1]) - 2])\n",
    "            out[-1] = [title, out[-1][-2], out[-1][-1]]"
   ]
  },
  {
   "cell_type": "code",
   "execution_count": null,
   "metadata": {},
   "outputs": [],
   "source": []
  }
 ],
 "metadata": {
  "kernelspec": {
   "display_name": "Python 3.10.4",
   "language": "python",
   "name": "python3"
  },
  "language_info": {
   "codemirror_mode": {
    "name": "ipython",
    "version": 3
   },
   "file_extension": ".py",
   "mimetype": "text/x-python",
   "name": "python",
   "nbconvert_exporter": "python",
   "pygments_lexer": "ipython3",
   "version": "3.10.4"
  },
  "orig_nbformat": 4,
  "vscode": {
   "interpreter": {
    "hash": "1de7ba50747a8de00988e0169b092eea3d79d1930039ebc8d5acda3ac527fb7d"
   }
  }
 },
 "nbformat": 4,
 "nbformat_minor": 2
}
